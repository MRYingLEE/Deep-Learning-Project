{
  "cells": [
    {
      "metadata": {
        "trusted": true
      },
      "cell_type": "code",
      "source": "# First import OpenCV, NumPY and MatPlotLib as we will use these libraries\nimport cv2\nimport numpy as np\nfrom PIL import Image\nimport matplotlib.pyplot as plt\nfrom tqdm import * \n%matplotlib inline\n",
      "execution_count": 1,
      "outputs": []
    },
    {
      "metadata": {
        "trusted": true
      },
      "cell_type": "code",
      "source": "# To generate a vector of avg values\n\nimport matplotlib.pyplot as plt\nimport matplotlib.cm as cm\nimport numpy as np\nimport scipy.cluster.vq as scv\nimport os\n    \ndef colormap2arr(arr,cmap):    \n    # http://stackoverflow.com/questions/3720840/how-to-reverse-color-map-image-to-scalar-values/3722674#3722674\n    gradient=cmap(np.linspace(0.0,1.0,100))\n\n    # Reshape arr to something like (240*240, 4), all the 4-tuples in a long list...\n    arr2=arr.reshape((arr.shape[0]*arr.shape[1],arr.shape[2]))\n\n    # Use vector quantization to shift the values in arr2 to the nearest point in\n    # the code book (gradient).\n    code,dist=scv.vq(arr2,gradient)\n\n    # code is an array of length arr2 (240*240), holding the code book index for\n    # each observation. (arr2 are the \"observations\".)\n    # Scale the values so they are from 0 to 1.\n    values=code.astype('float')/gradient.shape[0]\n\n    # Reshape values back to (240,240)\n    values=values.reshape(arr.shape[0],arr.shape[1])\n    values=values[::-1]\n    return values",
      "execution_count": 2,
      "outputs": []
    },
    {
      "metadata": {
        "trusted": true
      },
      "cell_type": "code",
      "source": "def image2Vector(imgname):\n    arr=plt.imread(imgname)\n    imgWidth = arr.shape[0]\n    imgHeight = arr.shape[1]\n\n    #print(imgWidth, imgHeight)\n\n    leftPart=arr[:,int(np.around(imgWidth/2)):(imgWidth-1),:]\n\n    #print(leftPart.shape)\n\n    values=colormap2arr(leftPart,cm.jet)    \n\n    #print(values.shape)\n\n    avgValues=np.mean(values, axis=1, dtype=np.float32)\n\n    #print(avgValues.shape)\n\n    # Proof that it works:\n    #plt.imshow(values,interpolation='bilinear', cmap=cm.jet,\n    #       origin='lower', extent=[-3,3,-3,3])\n    #plt.show()\n    \n    #print(avgValues)\n    \n    return avgValues\n\n#image2Vector(\"1000_c.png\")",
      "execution_count": 3,
      "outputs": []
    },
    {
      "metadata": {
        "trusted": true
      },
      "cell_type": "code",
      "source": "def image2Vector_Log(imgname):\n    arr=plt.imread(imgname)\n    imgWidth = arr.shape[0]\n    imgHeight = arr.shape[1]\n\n    #print(imgWidth, imgHeight)\n\n    leftPart=arr[:,int(np.around(imgWidth/2)):(imgWidth-1),:]\n\n    values=colormap2arr(leftPart,cm.jet)    \n\n    #avgValues=np.mean(values, axis=1, dtype=np.float32)\n\n    avgValues=np.log10(np.mean(np.power(10,values), axis=1, dtype=np.float32))\n    \n    return avgValues\n",
      "execution_count": 4,
      "outputs": []
    },
    {
      "metadata": {
        "trusted": true
      },
      "cell_type": "code",
      "source": "a=np.array([1,2,3,4,5])\nb=a[3:5]\nprint(b)",
      "execution_count": null,
      "outputs": []
    },
    {
      "metadata": {
        "trusted": true
      },
      "cell_type": "code",
      "source": "def image2Vector_2d(imgname):\n    arr=plt.imread(imgname)\n    imgWidth = arr.shape[0]\n    imgHeight = arr.shape[1]\n\n    #print(imgWidth, imgHeight)\n\n    leftPart=arr[:,(imgWidth-64):imgWidth,:]\n\n    values=colormap2arr(leftPart,cm.jet)    \n\n    return Values.flatten()",
      "execution_count": 4,
      "outputs": []
    },
    {
      "metadata": {
        "trusted": true
      },
      "cell_type": "code",
      "source": "#!/usr/bin/python\ndef create_pairs_2d(datasource,foldername):\n    id_label_arr=np.array(datasource)\n\n    #rows=np.ndarray(shape=(2*imgHeight+1), dtype = np.float)\n    rows=np.zeros((2*imgHeight+1,), dtype = np.float)\n\n    first=True\n\n    #print(rows)\n    #print(\"*****************\")\n\n    for pair in id_label_arr:\n\n        current_file = os.path.join(\".\", foldername,str(pair[0])+\"_c.png\")\n        voltage_file= os.path.join(\".\", foldername,str(pair[0])+\"_v.png\")\n    \n        #print(current_file)\n        if os.path.exists(current_file) and os.path.exists(voltage_file):\n            # For submission 1-6\n            #current_array=image2Vector(current_file)\n            #voltage_array=image2Vector(voltage_file)\n            \n            # For submission after 6. We hope to improve the prepared data\n            current_array=image2Vector_Log(current_file)\n            voltage_array=image2Vector_Log(voltage_file)\n                       \n            row=np.hstack((current_array,voltage_array,[pair[1]]))\n            #print(row.shape)\n        \n            if first:\n                print(pair)            \n                print(current_file)\n                print(current_array)\n                rows=row\n                print(row)\n                first=False\n                #break\n            else:\n                rows=np.concatenate((rows,row), axis=0)\n        else:\n            print(\"Missed:\"+current_file+\", or \"+ voltage_file)\n        #print(rows.shape)\n        #print(rows)\n\n    newRows=rows.reshape(int(rows.shape[0]/257),257)\n        #print(newRows.shape)\n    return newRows",
      "execution_count": 5,
      "outputs": []
    },
    {
      "metadata": {
        "trusted": true
      },
      "cell_type": "code",
      "source": "# Save the data files into a format compatible with CNTK text reader\ndef save_as_txt(filename, ndarray):\n    dir = os.path.dirname(filename)\n\n    if not os.path.exists(dir):\n        os.makedirs(dir)\n\n    first=True    \n    if not os.path.isfile(filename):\n        print(\"Saving\", filename )\n        with open(filename, 'w') as f:\n            labels = list(map(' '.join, np.eye(11, dtype=np.uint).astype(str))) #11 is the num of kinds we will classify into\n            \n            for row in ndarray:\n                row_str = row.astype(str)\n                #print(row[-1])\n                #print(type(row[-1]))\n                label=np.int(np.round(float(row[-1]),0))\n                label_str = labels[label]\n                feature_str = ' '.join(row_str[:-1])\n                f.write('|labels {} |features {}\\n'.format(label_str, feature_str))\n                \n                if first:\n                    #print('|labels {} |features {}\\n'.format(label_str, feature_str))\n                    #print(label)\n                    #print(label_str)\n                    first=False\n                    #break\n    else:\n        print(\"File already exists\", filename)",
      "execution_count": 6,
      "outputs": []
    },
    {
      "metadata": {
        "trusted": true
      },
      "cell_type": "code",
      "source": "import csv\n\nwith open('train_labels.csv', newline='') as csvfile:\n    id_labels = list(csv.reader(csvfile))\n\n#print(id_labels)\n\nwith open('submission_format.csv', newline='') as csvfile:\n    id_labels_test = list(csv.reader(csvfile))\n\n#print(id_labels_test)\n\n",
      "execution_count": 7,
      "outputs": []
    },
    {
      "metadata": {
        "trusted": true
      },
      "cell_type": "code",
      "source": "    \nimgHeight=128\n\n# Save the train and test files (prefer our default path for the data)\ndata_dir = os.path.join(\".\", \"PLAID\")\n\ntrain_pairs=create_pairs(id_labels,\"train\") \nprint ('Writing train text file...')\nsave_as_txt(os.path.join(data_dir, \"train_2d.txt\"), train_pairs)  #Before submission 7, \"train\" instead\n\ntest_pairs=create_pairs(id_labels_test,\"test\") \nprint ('Writing test text file...')\nsave_as_txt(os.path.join(data_dir, \"test_2d.txt\"), test_pairs) #Before submission 7, \"test\" instead\n\nprint('Done')",
      "execution_count": 8,
      "outputs": [
        {
          "output_type": "stream",
          "text": "Missed:./train/id_c.png, or ./train/id_v.png\n['1000' '8']\n./train/1000_c.png\n[5.5116707e-01 6.5912443e-01 6.0018742e-01 2.7016672e-01 2.6991546e-01\n 4.5745564e-01 4.5000011e-01 2.8639387e-02 2.1715457e-02 4.2999989e-01\n 4.3981683e-01 2.4240634e-01 2.5517372e-02 2.5429639e-01 4.2999989e-01\n 2.4946339e-01 1.4406181e-02 7.5630158e-02 2.6439300e-01 2.4981697e-01\n 2.8009736e-03 2.9870404e-03 1.5272550e-02 1.5579637e-02 1.4960625e-03\n 7.4864965e-04 6.1384491e-03 1.0000011e-02 1.8727049e-04 3.7451199e-04\n 1.8727049e-04 1.8727049e-04 1.8727049e-04 1.3093557e-03 1.8727049e-04\n 7.4864965e-04 5.6162110e-04 3.7451199e-04 1.8727049e-04 0.0000000e+00\n 0.0000000e+00 0.0000000e+00 1.8727049e-04 1.1225168e-03 1.8727049e-04\n 0.0000000e+00 0.0000000e+00 0.0000000e+00 5.6162110e-04 0.0000000e+00\n 0.0000000e+00 1.8727049e-04 0.0000000e+00 0.0000000e+00 0.0000000e+00\n 0.0000000e+00 0.0000000e+00 1.8727049e-04 0.0000000e+00 0.0000000e+00\n 0.0000000e+00 0.0000000e+00 0.0000000e+00 0.0000000e+00 0.0000000e+00\n 0.0000000e+00 0.0000000e+00 0.0000000e+00 0.0000000e+00 0.0000000e+00\n 0.0000000e+00 0.0000000e+00 0.0000000e+00 0.0000000e+00 0.0000000e+00\n 0.0000000e+00 0.0000000e+00 0.0000000e+00 0.0000000e+00 0.0000000e+00\n 0.0000000e+00 0.0000000e+00 0.0000000e+00 0.0000000e+00 0.0000000e+00\n 0.0000000e+00 0.0000000e+00 0.0000000e+00 0.0000000e+00 0.0000000e+00\n 0.0000000e+00 0.0000000e+00 0.0000000e+00 0.0000000e+00 0.0000000e+00\n 0.0000000e+00 0.0000000e+00 0.0000000e+00 0.0000000e+00 0.0000000e+00\n 0.0000000e+00 0.0000000e+00 0.0000000e+00 0.0000000e+00 0.0000000e+00\n 0.0000000e+00 0.0000000e+00 0.0000000e+00 0.0000000e+00 0.0000000e+00\n 0.0000000e+00 0.0000000e+00 0.0000000e+00 0.0000000e+00 0.0000000e+00\n 0.0000000e+00 0.0000000e+00 0.0000000e+00 0.0000000e+00 0.0000000e+00\n 0.0000000e+00 0.0000000e+00 0.0000000e+00 0.0000000e+00 0.0000000e+00\n 0.0000000e+00 0.0000000e+00 0.0000000e+00]\n['0.5511671' '0.65912443' '0.6001874' '0.27016672' '0.26991546'\n '0.45745564' '0.4500001' '0.028639387' '0.021715457' '0.4299999'\n '0.43981683' '0.24240634' '0.025517372' '0.2542964' '0.4299999'\n '0.2494634' '0.014406181' '0.07563016' '0.264393' '0.24981697'\n '0.0028009736' '0.0029870404' '0.01527255' '0.015579637' '0.0014960625'\n '0.00074864965' '0.006138449' '0.010000011' '0.00018727049' '0.000374512'\n '0.00018727049' '0.00018727049' '0.00018727049' '0.0013093557'\n '0.00018727049' '0.00074864965' '0.0005616211' '0.000374512'\n '0.00018727049' '0.0' '0.0' '0.0' '0.00018727049' '0.0011225168'\n '0.00018727049' '0.0' '0.0' '0.0' '0.0005616211' '0.0' '0.0'\n '0.00018727049' '0.0' '0.0' '0.0' '0.0' '0.0' '0.00018727049' '0.0' '0.0'\n '0.0' '0.0' '0.0' '0.0' '0.0' '0.0' '0.0' '0.0' '0.0' '0.0' '0.0' '0.0'\n '0.0' '0.0' '0.0' '0.0' '0.0' '0.0' '0.0' '0.0' '0.0' '0.0' '0.0' '0.0'\n '0.0' '0.0' '0.0' '0.0' '0.0' '0.0' '0.0' '0.0' '0.0' '0.0' '0.0' '0.0'\n '0.0' '0.0' '0.0' '0.0' '0.0' '0.0' '0.0' '0.0' '0.0' '0.0' '0.0' '0.0'\n '0.0' '0.0' '0.0' '0.0' '0.0' '0.0' '0.0' '0.0' '0.0' '0.0' '0.0' '0.0'\n '0.0' '0.0' '0.0' '0.0' '0.0' '0.0' '0.0' '0.0' '0.5611671' '0.65912443'\n '0.6001874' '0.2721126' '0.24843179' '0.43116704' '0.43037876'\n '0.028951168' '0.028639387' '0.26963365' '0.4299999' '0.028951168'\n '0.019422585' '0.2542964' '0.4299999' '0.24018732' '0.006399263'\n '0.23076187' '0.26963365' '0.24981697' '0.000374512' '0.005764534'\n '0.24018732' '0.23945041' '0.000374512' '0.000374512' '0.010000011'\n '0.010000011' '0.00018727049' '0.00018727049' '0.00018727049'\n '0.00018727049' '0.00018727049' '0.00018727049' '0.00018727049'\n '0.008533007' '0.00018727049' '0.00018727049' '0.00018727049'\n '0.00093564927' '0.0' '0.0' '0.010000011' '0.010000011' '0.00018727049'\n '0.009633712' '0.010000011' '0.00018727049' '0.010000011' '0.010000011'\n '0.00018727049' '0.010000011' '0.0' '0.00018727049' '0.0005616211' '0.0'\n '0.00018727049' '0.0' '0.0' '0.0' '0.0' '0.0' '0.0' '0.0' '0.0' '0.0'\n '0.0' '0.0' '0.0' '0.0' '0.0' '0.0' '0.0' '0.0' '0.0' '0.0' '0.0' '0.0'\n '0.0' '0.0' '0.0' '0.0' '0.0' '0.0' '0.0' '0.0' '0.0' '0.0' '0.0' '0.0'\n '0.0' '0.0' '0.0' '0.0' '0.0' '0.0' '0.0' '0.0' '0.0' '0.0' '0.0' '0.0'\n '0.0' '0.0' '0.0' '0.0' '0.0' '0.0' '0.0' '0.0' '0.0' '0.0' '0.0' '0.0'\n '0.0' '0.0' '0.0' '0.0' '0.0' '0.0' '0.0' '0.0' '0.0' '0.0' '0.0' '0.0'\n '0.0' '0.0' '8']\nWriting train text file...\nSaving ./PLAID/train_log.txt\nMissed:./test/id_c.png, or ./test/id_v.png\n['1988' '0']\n./test/1988_c.png\n[0.5496378  0.6599999  0.60000014 0.27332786 0.2561473  0.4381653\n 0.4299999  0.25280106 0.25465837 0.38292652 0.42738694 0.15057185\n 0.2260637  0.08173271 0.24650776 0.0259293  0.07156624 0.01000001\n 0.12139329 0.01000001 0.01000001 0.01000001 0.01000001 0.01527255\n 0.00890019 0.00890019 0.0092671  0.00908371 0.00963371 0.00981687\n 0.00853301 0.00908371 0.00890019 0.00798156 0.00853296 0.00871663\n 0.00816542 0.00981687 0.0092671  0.00908371 0.00908371 0.00981687\n 0.00945042 0.0092671  0.00871663 0.0092671  0.00963371 0.00981687\n 0.00871663 0.00890019 0.0092671  0.0092671  0.00945042 0.00963371\n 0.01000001 0.00963371 0.00981687 0.00963371 0.01000001 0.00981687\n 0.01000001 0.01000001 0.00945042 0.00981687 0.00963371 0.00945042\n 0.00981687 0.0092671  0.00981687 0.00963371 0.00963371 0.01000001\n 0.01000001 0.01000001 0.01000001 0.00963371 0.00963371 0.0092671\n 0.00981687 0.01000001 0.00981687 0.01000001 0.00963371 0.01000001\n 0.00963371 0.01000001 0.01000001 0.01000001 0.01000001 0.01000001\n 0.01000001 0.01000001 0.01000001 0.00981687 0.01000001 0.01000001\n 0.01000001 0.01000001 0.01000001 0.01000001 0.01000001 0.01000001\n 0.01000001 0.01000001 0.01000001 0.01000001 0.01000001 0.01000001\n 0.01000001 0.01000001 0.01000001 0.01000001 0.01000001 0.01000001\n 0.01000001 0.00981687 0.01000001 0.01000001 0.01000001 0.01000001\n 0.01000001 0.01000001 0.01000001 0.01000001 0.01000001 0.01000001\n 0.01000001 0.01000001]\n['0.5496378' '0.6599999' '0.60000014' '0.27332786' '0.2561473' '0.4381653'\n '0.4299999' '0.25280106' '0.25465837' '0.38292652' '0.42738694'\n '0.15057185' '0.2260637' '0.08173271' '0.24650776' '0.025929296'\n '0.07156624' '0.010000011' '0.121393286' '0.010000011' '0.010000011'\n '0.010000011' '0.010000011' '0.01527255' '0.008900185' '0.008900185'\n '0.009267103' '0.009083709' '0.009633712' '0.009816875' '0.008533007'\n '0.009083709' '0.008900185' '0.0079815565' '0.008532957' '0.0087166345'\n '0.008165417' '0.009816875' '0.009267103' '0.009083709' '0.009083709'\n '0.009816875' '0.009450422' '0.009267103' '0.0087166345' '0.009267103'\n '0.009633712' '0.009816875' '0.0087166345' '0.008900185' '0.009267103'\n '0.009267103' '0.009450422' '0.009633712' '0.010000011' '0.009633712'\n '0.009816875' '0.009633712' '0.010000011' '0.009816875' '0.010000011'\n '0.010000011' '0.009450422' '0.009816875' '0.009633712' '0.009450422'\n '0.009816875' '0.009267103' '0.009816875' '0.009633712' '0.009633712'\n '0.010000011' '0.010000011' '0.010000011' '0.010000011' '0.009633712'\n '0.009633712' '0.009267103' '0.009816875' '0.010000011' '0.009816875'\n '0.010000011' '0.009633712' '0.010000011' '0.009633712' '0.010000011'\n '0.010000011' '0.010000011' '0.010000011' '0.010000011' '0.010000011'\n '0.010000011' '0.010000011' '0.009816875' '0.010000011' '0.010000011'\n '0.010000011' '0.010000011' '0.010000011' '0.010000011' '0.010000011'\n '0.010000011' '0.010000011' '0.010000011' '0.010000011' '0.010000011'\n '0.010000011' '0.010000011' '0.010000011' '0.010000011' '0.010000011'\n '0.010000011' '0.010000011' '0.010000011' '0.010000011' '0.009816875'\n '0.010000011' '0.010000011' '0.010000011' '0.010000011' '0.010000011'\n '0.010000011' '0.010000011' '0.010000011' '0.010000011' '0.010000011'\n '0.010000011' '0.010000011' '0.5505659' '0.6592917' '0.6001874'\n '0.27054414' '0.036886085' '0.268095' '0.26383626' '0.028951168'\n '0.028639387' '0.25375226' '0.25780186' '0.015579637' '0.013539386'\n '0.015579637' '0.24037884' '0.015893593' '0.010672182' '0.0070609297'\n '0.010000011' '0.010000011' '0.0011225168' '0.0028009736' '0.010000011'\n '0.010000011' '0.0070609297' '0.0077976175' '0.0077976175' '0.010000011'\n '0.0016826891' '0.0018692871' '0.0018692871' '0.0050287875' '0.002055805'\n '0.0063230917' '0.0026147754' '0.002242243' '0.0014961141' '0.0029870404'\n '0.0011225168' '0.0053989897' '0.0013093557' '0.0014961141' '0.004101924'\n '0.004658269' '0.002055805' '0.0013093557' '0.002242243' '0.0011225168'\n '0.00093564927' '0.00074864965' '0.0014960625' '0.0005616211' '0.0'\n '0.0014960625' '0.0026147754' '0.000374512' '0.002242243' '0.0005616211'\n '0.0005616211' '0.00018727049' '0.0011225168' '0.00074864965'\n '0.000374512' '0.00093564927' '0.00074864965' '0.0' '0.0' '0.0005616211'\n '0.00018727049' '0.0' '0.00018727049' '0.0' '0.00018727049' '0.0' '0.0'\n '0.00074864965' '0.0' '0.00018727049' '0.0' '0.0' '0.0' '0.00018727049'\n '0.0' '0.0' '0.0' '0.0' '0.0' '0.0' '0.0' '0.0' '0.0' '0.0' '0.0' '0.0'\n '0.0' '0.0' '0.0' '0.0' '0.0' '0.0' '0.0' '0.0' '0.0' '0.0' '0.0' '0.0'\n '0.0' '0.0' '0.0' '0.0' '0.0' '0.0' '0.0' '0.0' '0.0' '0.0' '0.0' '0.0'\n '0.0' '0.0' '0.0' '0.0' '0.0' '0.0' '0.0' '0.0' '0.0' '0.0' '0']\n",
          "name": "stdout"
        },
        {
          "output_type": "stream",
          "text": "Writing test text file...\nSaving ./PLAID/test_log.txt\nDone\n",
          "name": "stdout"
        }
      ]
    },
    {
      "metadata": {
        "trusted": true
      },
      "cell_type": "code",
      "source": "2964 /257",
      "execution_count": 9,
      "outputs": [
        {
          "output_type": "execute_result",
          "execution_count": 9,
          "data": {
            "text/plain": "11.53307392996109"
          },
          "metadata": {}
        }
      ]
    },
    {
      "metadata": {
        "trusted": true
      },
      "cell_type": "code",
      "source": "list(map(' '.join, np.eye(11, dtype=np.uint).astype(str))) ",
      "execution_count": 10,
      "outputs": [
        {
          "output_type": "execute_result",
          "execution_count": 10,
          "data": {
            "text/plain": "['1 0 0 0 0 0 0 0 0 0 0',\n '0 1 0 0 0 0 0 0 0 0 0',\n '0 0 1 0 0 0 0 0 0 0 0',\n '0 0 0 1 0 0 0 0 0 0 0',\n '0 0 0 0 1 0 0 0 0 0 0',\n '0 0 0 0 0 1 0 0 0 0 0',\n '0 0 0 0 0 0 1 0 0 0 0',\n '0 0 0 0 0 0 0 1 0 0 0',\n '0 0 0 0 0 0 0 0 1 0 0',\n '0 0 0 0 0 0 0 0 0 1 0',\n '0 0 0 0 0 0 0 0 0 0 1']"
          },
          "metadata": {}
        }
      ]
    },
    {
      "metadata": {
        "trusted": true
      },
      "cell_type": "code",
      "source": "np.log10(1110)",
      "execution_count": 11,
      "outputs": [
        {
          "output_type": "execute_result",
          "execution_count": 11,
          "data": {
            "text/plain": "3.0453229787866576"
          },
          "metadata": {}
        }
      ]
    },
    {
      "metadata": {
        "trusted": true
      },
      "cell_type": "code",
      "source": "import numpy as np\nv=[1,2,3]\nva=np.array(v)\nnp.log10(np.mean(np.power(10,v)))",
      "execution_count": 12,
      "outputs": [
        {
          "output_type": "execute_result",
          "execution_count": 12,
          "data": {
            "text/plain": "2.568201724066995"
          },
          "metadata": {}
        }
      ]
    }
  ],
  "metadata": {
    "kernelspec": {
      "name": "python36",
      "display_name": "Python 3.6",
      "language": "python"
    },
    "language_info": {
      "mimetype": "text/x-python",
      "nbconvert_exporter": "python",
      "name": "python",
      "pygments_lexer": "ipython3",
      "version": "3.6.6",
      "file_extension": ".py",
      "codemirror_mode": {
        "version": 3,
        "name": "ipython"
      }
    }
  },
  "nbformat": 4,
  "nbformat_minor": 2
}