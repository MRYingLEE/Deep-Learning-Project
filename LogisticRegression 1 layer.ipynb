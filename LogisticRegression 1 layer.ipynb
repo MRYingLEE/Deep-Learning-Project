{
  "cells": [
    {
      "metadata": {
        "nbpresent": {
          "id": "29b9bd1d-766f-4422-ad96-de0accc1ce58"
        }
      },
      "cell_type": "markdown",
      "source": "# Lab 2 - Logistic Regression (LR) with MNIST\n\nThis lab corresponds to Module 2 of the \"Deep Learning Explained\" course. We assume that you have successfully completed Lab 1 (Downloading the MNIST data).\n\nIn this lab we will build and train a Multiclass Logistic Regression model using the MNIST data. \n\n## Introduction\n\n**Problem**:\nOptical Character Recognition (OCR) is a hot research area and there is a great demand for automation. The MNIST data is comprised of hand-written digits with little background noise making it a nice dataset to create, experiment and learn deep learning models with reasonably small comptuing resources."
    },
    {
      "metadata": {},
      "cell_type": "markdown",
      "source": "**Goal**:\nOur goal is to train a classifier that will identify the digits in the MNIST dataset. \n\n**Approach**:\nThere are 4 stages in this lab: \n- **Data reading**: We will use the CNTK Text reader.  \n- **Data preprocessing**: Covered in part A (suggested extension section). \n- **Model creation**: Multiclass Logistic Regression model.\n- **Train-Test-Predict**: This is the same workflow introduced in the lectures"
    },
    {
      "metadata": {},
      "cell_type": "markdown",
      "source": "## Logistic Regression\n[Logistic Regression](https://en.wikipedia.org/wiki/Logistic_regression) (LR) is a fundamental machine learning technique that uses a linear weighted combination of features and generates probability-based predictions of different classes.  \n\nThere are two basic forms of LR: **Binary LR** (with a single output that can predict two classes) and **multiclass LR** (with multiple outputs, each of which is used to predict a single class).  \n\n![LR-forms](http://www.cntk.ai/jup/cntk103b_TwoFormsOfLR-v3.png)"
    },
    {
      "metadata": {},
      "cell_type": "markdown",
      "source": "In **Binary Logistic Regression** (see top of figure above), the input features are each scaled by an associated weight and summed together.  The sum is passed through a squashing (aka activation) function and generates an output in [0,1].  This output value is then compared with a threshold (such as 0.5) to produce a binary label (0 or 1), predicting 1 of 2 classes.  This technique supports only classification problems with two output classes, hence the name binary LR.  In the binary LR example shown above, the [sigmoid][] function is used as the squashing function.\n\n[sigmoid]: https://en.wikipedia.org/wiki/Sigmoid_function"
    },
    {
      "metadata": {},
      "cell_type": "markdown",
      "source": "In **Multiclass Linear Regression** (see bottom of figure above), 2 or more output nodes are used, one for each output class to be predicted.  Each summation node uses its own set of weights to scale the input features and sum them together. Instead of passing the summed output of the weighted input features through a sigmoid squashing function, the output is often passed through a [softmax][] function (which in addition to squashing, like the sigmoid, the softmax normalizes each nodes' output value using the sum of all unnormalized nodes). (Details in the context of MNIST image to follow)\n\nWe will use multiclass LR for classifying the MNIST digits (0-9) using 10 output nodes (1 for each of our output classes).  In our approach, we will move the softmax function out of the model and into our Loss function used in training (details to follow).\n\n[softmax]: https://en.wikipedia.org/wiki/Softmax_function"
    },
    {
      "metadata": {
        "nbpresent": {
          "id": "138d1a78-02e2-4bd6-a20e-07b83f303563"
        },
        "trusted": true
      },
      "cell_type": "code",
      "source": "# Import the relevant components\nfrom IPython.display import Image\nfrom __future__ import print_function # Use a function definition from future version (say 3.x from 2.7 interpreter)\nimport matplotlib.image as mpimg\nimport matplotlib.pyplot as plt\nimport numpy as np\nimport sys\nimport os\n\nimport cntk as C\n\n%matplotlib inline",
      "execution_count": 1,
      "outputs": []
    },
    {
      "metadata": {},
      "cell_type": "markdown",
      "source": "In the block below, we check if we are running this notebook in the CNTK internal test machines by looking for environment variables defined there. We then select the right target device (GPU vs CPU) to test this notebook. In other cases, we use CNTK's default policy to use the best available device (GPU, if available, else CPU)."
    },
    {
      "metadata": {
        "trusted": true
      },
      "cell_type": "code",
      "source": "# Select the right target device when this notebook is being tested:\nif 'TEST_DEVICE' in os.environ:\n    if os.environ['TEST_DEVICE'] == 'cpu':\n        C.device.try_set_default_device(C.device.cpu())\n    else:\n        C.device.try_set_default_device(C.device.gpu(0))",
      "execution_count": 2,
      "outputs": []
    },
    {
      "metadata": {
        "trusted": true
      },
      "cell_type": "code",
      "source": "# Test for CNTK version\n#if not C.__version__ == \"2.0\":\n#    raise Exception(\"this lab is designed to work with 2.0. Current Version: \" + C.__version__) ",
      "execution_count": 18,
      "outputs": []
    },
    {
      "metadata": {},
      "cell_type": "markdown",
      "source": "## Initialization"
    },
    {
      "metadata": {
        "trusted": true
      },
      "cell_type": "code",
      "source": "# Ensure we always get the same amount of randomness\nnp.random.seed(0)\nC.cntk_py.set_fixed_random_seed(1)\nC.cntk_py.force_deterministic_algorithms()\n\n# Define the data dimensions\ninput_dim = 256  #784\nnum_output_classes = 11 #10",
      "execution_count": 3,
      "outputs": []
    },
    {
      "metadata": {},
      "cell_type": "markdown",
      "source": "## Data reading\n\nThere are different ways one can read data into CNTK. The easiest way is to load the data in memory using NumPy / SciPy / Pandas readers. However, this can be done only for small data sets. Since deep learning requires large amount of data we have chosen in this course to show how to leverage built-in distributed readers that can scale to terrabytes of data with little extra effort. \n\nWe are using the MNIST data you have downloaded using Lab 1 DataLoader notebook. The dataset has 60,000 training images and 10,000 test images with each image being 28 x 28 pixels. Thus the number of features is equal to 784 (= 28 x 28 pixels), 1 per pixel. The variable `num_output_classes` is set to 10 corresponding to the number of digits (0-9) in the dataset.\n\nIn Lab 1, the data was downloaded and written to 2 CTF (CNTK Text Format) files, 1 for training, and 1 for testing. Each line of these text files takes the form:\n\n    |labels 0 0 0 1 0 0 0 0 0 0 |features 0 0 0 0 ... \n                                                  (784 integers each representing a pixel)\n    \nWe are going to use the image pixels corresponding the integer stream named \"features\". We define a `create_reader` function to read the training and test data using the [CTF deserializer](https://cntk.ai/pythondocs/cntk.io.html?highlight=ctfdeserializer#cntk.io.CTFDeserializer). The labels are [1-hot encoded](https://en.wikipedia.org/wiki/One-hot). Refer to Lab 1 for data format visualizations. "
    },
    {
      "metadata": {
        "trusted": true
      },
      "cell_type": "code",
      "source": "# Read a CTF formatted text (as mentioned above) using the CTF deserializer from a file\ndef create_reader(path, is_training, input_dim, num_label_classes):\n    \n    labelStream = C.io.StreamDef(field='labels', shape=num_label_classes, is_sparse=False)\n    featureStream = C.io.StreamDef(field='features', shape=input_dim, is_sparse=False)\n    \n    deserailizer = C.io.CTFDeserializer(path, C.io.StreamDefs(labels = labelStream, features = featureStream))\n            \n    return C.io.MinibatchSource(deserailizer,\n       randomize = is_training, max_sweeps = C.io.INFINITELY_REPEAT if is_training else 1)",
      "execution_count": 4,
      "outputs": []
    },
    {
      "metadata": {
        "trusted": true
      },
      "cell_type": "code",
      "source": "# Ensure the training and test data is generated and available for this lab.\n# We search in two locations in the toolkit for the cached MNIST data set.\ndata_found = False\n\nfor data_dir in [os.path.join(\".\", \"PLAID\")]:\n    train_file = os.path.join(data_dir, \"train.txt\")\n    test_file = os.path.join(data_dir, \"test.txt\")\n    if os.path.isfile(train_file) and os.path.isfile(test_file):\n        data_found = True\n        break\n        \nif not data_found:\n    raise ValueError(\"Please generate the data by completing Lab1_MNIST_DataLoader\")\n    \nprint(\"Data directory is {0}\".format(data_dir))",
      "execution_count": 5,
      "outputs": [
        {
          "output_type": "stream",
          "text": "Data directory is ./PLAID\n",
          "name": "stdout"
        }
      ]
    },
    {
      "metadata": {},
      "cell_type": "markdown",
      "source": "# Model Creation\n\nA multiclass logistic regression (LR) network is a simple building block that has been effectively powering many ML \napplications in the past decade. The figure below summarizes the model in the context of the MNIST data.\n\n![mnist-LR](https://www.cntk.ai/jup/cntk103b_MNIST_LR.png)\n\nLR is a simple linear model that takes as input, a vector of numbers describing the properties of what we are classifying (also known as a feature vector, $\\bf \\vec{x}$, the pixels in the input MNIST digit image) and emits the *evidence* ($z$). For each of the 10 digits, there is a vector of weights corresponding to the input pixels as show in the figure. These 10 weight vectors define the weight matrix ($\\bf {W}$) with dimension of 10 x 784.  Each feature in the input layer is connected with a summation node by a corresponding weight $w$ (individual weight values from the $\\bf{W}$ matrix). Note there are 10 such nodes, 1 corresponding to each digit to be classified. "
    },
    {
      "metadata": {},
      "cell_type": "markdown",
      "source": "The first step is to compute the evidence for an observation. \n\n$$\\vec{z} = \\textbf{W} \\bf \\vec{x}^T + \\vec{b}$$ \n\nwhere $\\bf{W}$ is the weight matrix of dimension 10 x 784 and $\\vec{b}$ is known as the *bias* vector with lenght 10, one for each digit. \n\nThe evidence ($\\vec{z}$) is not squashed (hence no activation). Instead the output is normalized using a [softmax](https://en.wikipedia.org/wiki/Softmax_function) function such that all the outputs add up to a value of 1, thus lending a probabilistic iterpretation to the prediction. In CNTK, we use the softmax operation combined with the cross entropy error as our Loss Function for training."
    },
    {
      "metadata": {},
      "cell_type": "markdown",
      "source": "Network input and output: \n- **input** variable (a key CNTK concept): \n>An **input** variable is a container in which we fill different observations, in this case image pixels, during model learning (a.k.a.training) and model evaluation (a.k.a. testing). Thus, the shape of the `input` must match the shape of the data that will be provided.  For example, when data are images each of  height 10 pixels  and width 5 pixels, the input feature dimension will be 50 (representing the total number of image pixels).\n\n\n**Knowledge Check:** What is the input dimension of your chosen model? This is fundamental to our understanding of variables in a network or model representation in CNTK."
    },
    {
      "metadata": {
        "trusted": true
      },
      "cell_type": "code",
      "source": "input = C.input_variable(input_dim)\nlabel = C.input_variable(num_output_classes)",
      "execution_count": 6,
      "outputs": []
    },
    {
      "metadata": {},
      "cell_type": "markdown",
      "source": "## Logistic Regression network setup\n\nThe CNTK Layers module provides a Dense function that creates a fully connected layer which performs the above operations of weighted input summing and bias addition.  "
    },
    {
      "metadata": {
        "trusted": true
      },
      "cell_type": "code",
      "source": "def create_model(features):\n    with C.layers.default_options(init = C.glorot_uniform()):\n        r = C.layers.Dense(num_output_classes, activation = None)(features)\n        return r",
      "execution_count": 7,
      "outputs": []
    },
    {
      "metadata": {},
      "cell_type": "markdown",
      "source": "`z` will be used to represent the output of a network."
    },
    {
      "metadata": {
        "trusted": true
      },
      "cell_type": "code",
      "source": "# Scale the input to 0-1 range by dividing each pixel by 255.\n#input_s = input/255\nz = create_model(input)",
      "execution_count": 8,
      "outputs": []
    },
    {
      "metadata": {},
      "cell_type": "markdown",
      "source": "## Training\n\nBelow, we define the **Loss** function, which is used to guide weight changes during training.  \n\nAs explained in the lectures, we use the `softmax` function to map the accumulated evidences or activations to a probability distribution over the classes (Details of the [softmax function][] and other [activation][] functions).\n\n[softmax function]: http://cntk.ai/pythondocs/cntk.ops.html#cntk.ops.softmax\n\n[activation]: https://github.com/Microsoft/CNTK/wiki/Activation-Functions\n\nWe minimize the cross-entropy between the label and predicted probability by the network."
    },
    {
      "metadata": {
        "trusted": true
      },
      "cell_type": "code",
      "source": "loss = C.cross_entropy_with_softmax(z, label)",
      "execution_count": 9,
      "outputs": []
    },
    {
      "metadata": {},
      "cell_type": "markdown",
      "source": "#### Evaluation\n\nBelow, we define the **Evaluation** (or metric) function that is used to report a measurement of how well our model is performing.\n\nFor this problem, we choose the **classification_error()** function as our metric, which returns the average error over the associated samples (treating a match as \"1\", where the model's prediction matches the \"ground truth\" label, and a non-match as \"0\")."
    },
    {
      "metadata": {
        "trusted": true
      },
      "cell_type": "code",
      "source": "label_error = C.classification_error(z, label)",
      "execution_count": 10,
      "outputs": []
    },
    {
      "metadata": {},
      "cell_type": "markdown",
      "source": "### Configure training\n\nThe trainer strives to reduce the `loss` function by different optimization approaches, [Stochastic Gradient Descent][] (`sgd`) being one of the most popular. Typically, one would start with random initialization of the model parameters. The `sgd` optimizer would calculate the `loss` or error between the predicted label against the corresponding ground-truth label and using [gradient-decent][] generate a new set model parameters in a single iteration. \n\nThe aforementioned model parameter update using a single observation at a time is attractive since it does not require the entire data set (all observation) to be loaded in memory and also requires gradient computation over fewer datapoints, thus allowing for training on large data sets. However, the updates generated using a single observation sample at a time can vary wildly between iterations. An intermediate ground is to load a small set of observations and use an average of the `loss` or error from that set to update the model parameters. This subset is called a *minibatch*.\n\nWith minibatches, we sample observations from the larger training dataset. We repeat the process of model parameters update using different combination of training samples and over a period of time minimize the `loss` (and the error metric). When the incremental error rates are no longer changing significantly or after a preset number of maximum minibatches to train, we claim that our model is trained.\n\nOne of the key optimization parameters is called the `learning_rate`. For now, we can think of it as a scaling factor that modulates how much we change the parameters in any iteration.\nWith this information, we are ready to create our trainer. \n\n[optimization]: https://en.wikipedia.org/wiki/Category:Convex_optimization\n[Stochastic Gradient Descent]: https://en.wikipedia.org/wiki/Stochastic_gradient_descent\n[gradient-decent]: http://www.statisticsviews.com/details/feature/5722691/Getting-to-the-Bottom-of-Regression-with-Gradient-Descent.html"
    },
    {
      "metadata": {
        "trusted": true
      },
      "cell_type": "code",
      "source": "# Instantiate the trainer object to drive the model training\nlearning_rate = 0.2\nlr_schedule = C.learning_rate_schedule(learning_rate, C.UnitType.minibatch)\nlearner = C.sgd(z.parameters, lr_schedule)\ntrainer = C.Trainer(z, (loss, label_error), [learner])",
      "execution_count": 11,
      "outputs": []
    },
    {
      "metadata": {},
      "cell_type": "markdown",
      "source": "First let us create some helper functions that will be needed to visualize different functions associated with training."
    },
    {
      "metadata": {
        "trusted": true
      },
      "cell_type": "code",
      "source": "# Define a utility function to compute the moving average sum.\n# A more efficient implementation is possible with np.cumsum() function\ndef moving_average(a, w=5):\n    if len(a) < w:\n        return a[:]    # Need to send a copy of the array\n    return [val if idx < w else sum(a[(idx-w):idx])/w for idx, val in enumerate(a)]\n\n\n# Defines a utility that prints the training progress\ndef print_training_progress(trainer, mb, frequency, verbose=1):\n    training_loss = \"NA\"\n    eval_error = \"NA\"\n\n    if mb%frequency == 0:\n        training_loss = trainer.previous_minibatch_loss_average\n        eval_error = trainer.previous_minibatch_evaluation_average\n        if verbose: \n            print (\"Minibatch: {0}, Loss: {1:.4f}, Error: {2:.2f}%\".format(mb, training_loss, eval_error*100))\n        \n    return mb, training_loss, eval_error",
      "execution_count": 12,
      "outputs": []
    },
    {
      "metadata": {},
      "cell_type": "markdown",
      "source": "<a id='#Run the trainer'></a>\n### Run the trainer\n\nWe are now ready to train our fully connected neural net. We want to decide what data we need to feed into the training engine.\n\nIn this example, each iteration of the optimizer will work on `minibatch_size` sized samples. We would like to train on all 60000 observations. Additionally we will make multiple passes through the data specified by the variable `num_sweeps_to_train_with`. With these parameters we can proceed with training our simple feed forward network."
    },
    {
      "metadata": {
        "trusted": true
      },
      "cell_type": "code",
      "source": "# Initialize the parameters for the trainer\nminibatch_size = 64\nnum_samples_per_sweep = 60000\nnum_sweeps_to_train_with = 10\nnum_minibatches_to_train = (num_samples_per_sweep * num_sweeps_to_train_with) / minibatch_size",
      "execution_count": 13,
      "outputs": []
    },
    {
      "metadata": {
        "trusted": true
      },
      "cell_type": "code",
      "source": "# Create the reader to training data set\nreader_train = create_reader(train_file, True, input_dim, num_output_classes)\n\n# Map the data streams to the input and labels.\ninput_map = {\n    label  : reader_train.streams.labels,\n    input  : reader_train.streams.features\n} \n\n# Run the trainer on and perform model training\ntraining_progress_output_freq = 500\n\nplotdata = {\"batchsize\":[], \"loss\":[], \"error\":[]}\n\nfor i in range(0, int(num_minibatches_to_train)):\n    \n    # Read a mini batch from the training data file\n    data = reader_train.next_minibatch(minibatch_size, input_map = input_map)\n    \n    trainer.train_minibatch(data)\n    batchsize, loss, error = print_training_progress(trainer, i, training_progress_output_freq, verbose=1)\n    \n    if not (loss == \"NA\" or error ==\"NA\"):\n        plotdata[\"batchsize\"].append(batchsize)\n        plotdata[\"loss\"].append(loss)\n        plotdata[\"error\"].append(error)",
      "execution_count": 14,
      "outputs": [
        {
          "output_type": "stream",
          "text": "Minibatch: 0, Loss: 2.4066, Error: 98.44%\nMinibatch: 500, Loss: 1.5065, Error: 51.56%\nMinibatch: 1000, Loss: 1.2547, Error: 34.38%\nMinibatch: 1500, Loss: 1.2090, Error: 39.06%\nMinibatch: 2000, Loss: 1.1273, Error: 25.00%\nMinibatch: 2500, Loss: 1.1084, Error: 31.25%\nMinibatch: 3000, Loss: 1.2014, Error: 39.06%\nMinibatch: 3500, Loss: 0.8528, Error: 23.44%\nMinibatch: 4000, Loss: 0.8141, Error: 17.19%\nMinibatch: 4500, Loss: 0.9831, Error: 28.12%\nMinibatch: 5000, Loss: 0.9228, Error: 29.69%\nMinibatch: 5500, Loss: 0.8556, Error: 21.88%\nMinibatch: 6000, Loss: 0.9969, Error: 34.38%\nMinibatch: 6500, Loss: 0.6481, Error: 15.62%\nMinibatch: 7000, Loss: 0.9885, Error: 34.38%\nMinibatch: 7500, Loss: 0.7557, Error: 18.75%\nMinibatch: 8000, Loss: 0.9850, Error: 35.94%\nMinibatch: 8500, Loss: 0.9335, Error: 26.56%\nMinibatch: 9000, Loss: 0.6163, Error: 15.62%\n",
          "name": "stdout"
        }
      ]
    },
    {
      "metadata": {},
      "cell_type": "markdown",
      "source": "Let us plot the errors over the different training minibatches. Note that as we progress in our training, the loss decreases though we do see some intermediate bumps.  "
    },
    {
      "metadata": {
        "trusted": true
      },
      "cell_type": "code",
      "source": "# Compute the moving average loss to smooth out the noise in SGD\nplotdata[\"avgloss\"] = moving_average(plotdata[\"loss\"])\nplotdata[\"avgerror\"] = moving_average(plotdata[\"error\"])\n\n# Plot the training loss and the training error\nimport matplotlib.pyplot as plt\n\nplt.figure(1)\nplt.subplot(211)\nplt.plot(plotdata[\"batchsize\"], plotdata[\"avgloss\"], 'b--')\nplt.xlabel('Minibatch number')\nplt.ylabel('Loss')\nplt.title('Minibatch run vs. Training loss')\n\nplt.show()\n\nplt.subplot(212)\nplt.plot(plotdata[\"batchsize\"], plotdata[\"avgerror\"], 'r--')\nplt.xlabel('Minibatch number')\nplt.ylabel('Label Prediction Error')\nplt.title('Minibatch run vs. Label Prediction Error')\nplt.show()",
      "execution_count": 15,
      "outputs": [
        {
          "output_type": "display_data",
          "data": {
            "image/png": "[encoded data removed]",
            "text/plain": "<matplotlib.figure.Figure at 0x7efeb5e4af98>"
          },
          "metadata": {}
        },
        {
          "output_type": "display_data",
          "data": {
            "image/png": "[encoded data removed]",
            "text/plain": "<matplotlib.figure.Figure at 0x7efeb5e71518>"
          },
          "metadata": {}
        }
      ]
    },
    {
      "metadata": {},
      "cell_type": "markdown",
      "source": "## Evaluation / Testing \n\nNow that we have trained the network, let us evaluate the trained network on the test data. This is done using `trainer.test_minibatch`."
    },
    {
      "metadata": {
        "trusted": true
      },
      "cell_type": "code",
      "source": "out = C.softmax(z)",
      "execution_count": 16,
      "outputs": []
    },
    {
      "metadata": {
        "trusted": true
      },
      "cell_type": "code",
      "source": "# Read the data for evaluation\nreader_eval = create_reader(test_file, False, input_dim, num_output_classes)\n\neval_minibatch_size = 1\neval_input_map = {input: reader_eval.streams.features} \n\nnum_samples = 659\nnum_minibatches_to_test = num_samples // eval_minibatch_size\ntest_result = 0.0\n\nresults=[]\n\nfor i in range(num_minibatches_to_test):\n    data = reader_eval.next_minibatch(eval_minibatch_size, input_map = eval_input_map)\n\n    #img_label = data[label].asarray()\n    img_data = data[input].asarray()\n    predicted_label_prob = [out.eval(img_data[i]) for i in range(len(img_data))]\n    pred = [np.argmax(predicted_label_prob[i]) for i in range(len(predicted_label_prob))]\n    #print(predicted_label_prob)\n    results.extend(pred )\n\nprint(results)",
      "execution_count": 21,
      "outputs": [
        {
          "output_type": "stream",
          "text": "[8, 1, 2, 3, 2, 2, 8, 3, 2, 0, 8, 5, 5, 2, 1, 7, 5, 2, 0, 7, 1, 8, 4, 3, 3, 0, 7, 1, 0, 7, 7, 7, 7, 0, 3, 8, 2, 3, 8, 0, 8, 5, 1, 7, 0, 6, 4, 3, 5, 7, 3, 3, 4, 1, 2, 7, 1, 5, 3, 3, 7, 1, 5, 7, 8, 2, 2, 3, 0, 3, 7, 2, 3, 5, 0, 1, 10, 2, 1, 0, 0, 8, 9, 5, 2, 0, 0, 1, 0, 5, 1, 7, 3, 0, 6, 5, 1, 7, 4, 3, 0, 8, 3, 7, 1, 8, 8, 0, 1, 2, 1, 2, 5, 5, 10, 3, 4, 2, 2, 3, 5, 1, 9, 5, 3, 5, 8, 8, 2, 1, 2, 0, 8, 2, 3, 0, 8, 3, 1, 3, 2, 2, 1, 1, 1, 2, 9, 3, 2, 0, 2, 7, 0, 3, 7, 5, 2, 7, 8, 8, 3, 8, 1, 0, 0, 2, 5, 5, 10, 9, 8, 2, 5, 3, 1, 8, 3, 8, 0, 5, 3, 8, 6, 0, 0, 3, 5, 0, 0, 0, 7, 1, 8, 2, 1, 0, 1, 3, 7, 1, 0, 8, 5, 8, 1, 8, 8, 8, 5, 3, 0, 6, 7, 5, 0, 5, 2, 7, 9, 5, 4, 2, 1, 5, 0, 3, 7, 5, 8, 3, 1, 7, 3, 3, 5, 3, 7, 7, 4, 3, 6, 0, 8, 1, 4, 3, 0, 8, 5, 5, 9, 0, 1, 2, 3, 0, 0, 7, 2, 8, 0, 5, 0, 5, 3, 7, 1, 7, 0, 4, 5, 0, 0, 5, 1, 1, 7, 1, 1, 7, 3, 9, 3, 8, 2, 7, 2, 0, 2, 0, 3, 3, 4, 7, 7, 1, 1, 3, 3, 1, 5, 1, 3, 2, 8, 1, 3, 5, 0, 1, 7, 0, 8, 4, 2, 1, 0, 3, 7, 1, 4, 9, 8, 1, 2, 2, 0, 7, 3, 0, 3, 6, 3, 7, 8, 0, 2, 5, 1, 8, 7, 5, 0, 8, 7, 7, 3, 1, 0, 3, 0, 8, 2, 3, 3, 1, 8, 1, 8, 3, 0, 8, 5, 3, 5, 6, 1, 3, 4, 0, 9, 0, 8, 5, 2, 5, 3, 3, 8, 2, 5, 9, 8, 7, 1, 7, 0, 3, 8, 8, 0, 2, 1, 5, 4, 3, 1, 2, 1, 8, 7, 7, 1, 0, 3, 3, 7, 3, 2, 7, 1, 8, 1, 5, 0, 6, 0, 8, 2, 5, 0, 8, 8, 3, 9, 7, 3, 3, 7, 5, 1, 5, 3, 2, 8, 4, 1, 8, 0, 0, 8, 6, 2, 6, 6, 8, 6, 2, 0, 8, 2, 2, 3, 5, 1, 5, 5, 7, 1, 2, 0, 1, 10, 1, 8, 6, 0, 8, 1, 0, 9, 2, 1, 1, 3, 1, 2, 3, 0, 1, 0, 4, 3, 2, 0, 3, 3, 5, 2, 0, 7, 7, 8, 5, 8, 5, 2, 1, 3, 6, 1, 3, 6, 3, 8, 8, 1, 3, 7, 2, 3, 2, 1, 8, 3, 7, 8, 3, 0, 0, 2, 5, 1, 8, 9, 8, 7, 2, 2, 2, 9, 0, 3, 8, 0, 2, 2, 10, 1, 7, 0, 3, 3, 7, 3, 1, 6, 1, 8, 2, 1, 6, 10, 8, 1, 7, 7, 8, 2, 3, 5, 3, 0, 5, 7, 7, 6, 3, 3, 10, 7, 2, 5, 1, 1, 3, 8, 0, 5, 5, 5, 8, 2, 2, 7, 0, 6, 5, 1, 9, 2, 0, 5, 1, 6, 1, 0, 5, 3, 2, 1, 8, 8, 2, 6, 3, 0, 8, 1, 8, 1, 6, 1, 1, 2, 5, 3, 7, 2, 2, 0, 8, 3, 2, 2, 3, 7, 7, 0, 8, 3, 6, 2, 3, 3, 0, 7, 5, 7, 1, 5, 2, 7, 8, 3, 1, 0, 2, 0, 2, 2, 3, 5, 8, 7, 5, 3, 9, 8]\n",
          "name": "stdout"
        }
      ]
    },
    {
      "metadata": {},
      "cell_type": "markdown",
      "source": "We have so far been dealing with aggregate measures of error. Let us now get the probabilities associated with individual data points. For each observation, the `eval` function returns the probability distribution across all the classes. The classifier is trained to recognize digits, hence has 10 classes. First let us route the network output through a `softmax` function. This maps the aggregated activations across the network to probabilities across the 10 classes."
    },
    {
      "metadata": {},
      "cell_type": "markdown",
      "source": "Let us test a small minibatch sample from the test data."
    },
    {
      "metadata": {},
      "cell_type": "markdown",
      "source": "As you can see above, our model is not yet perfect.  \n\nLet us visualize one of the test images and its associated label.  Do they match?"
    },
    {
      "metadata": {},
      "cell_type": "markdown",
      "source": "**Suggested Explorations**\n\nA. Change the `minibatch_size` parameter (from 64) to 128 and then to 512 during training. What is the observed average test error rate (rounded to 2nd decimal place) with each new model?\n\nB. Increase the number of sweeps.  How does the test error change?\n\nC. Can you change the network to reduce the training error rate? When do you see *overfitting* happening?  \n\nD. Lets now add more features to our model. We will add square of the input values as additional features. You will take the input pixels, scale them by 255. Use `C.square` and `C.splice` functions to create a new model. Use this model to perform classification. Note: use the original setting for the rest of the notebook\n\nE. Now add sqrt as another set of features to the model. Use this model to perform classification."
    }
  ],
  "metadata": {
    "anaconda-cloud": {},
    "kernelspec": {
      "name": "python3",
      "display_name": "Python 3",
      "language": "python"
    },
    "language_info": {
      "mimetype": "text/x-python",
      "nbconvert_exporter": "python",
      "name": "python",
      "pygments_lexer": "ipython3",
      "version": "3.5.4",
      "file_extension": ".py",
      "codemirror_mode": {
        "version": 3,
        "name": "ipython"
      }
    }
  },
  "nbformat": 4,
  "nbformat_minor": 1
}